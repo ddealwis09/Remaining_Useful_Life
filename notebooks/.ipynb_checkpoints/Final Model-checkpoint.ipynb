{
 "cells": [
  {
   "cell_type": "markdown",
   "id": "1d32f5bf",
   "metadata": {},
   "source": [
    "# Final Model and Setup for Productionizing Code"
   ]
  },
  {
   "cell_type": "markdown",
   "id": "74e94250",
   "metadata": {},
   "source": [
    "#### Some conclusions we draw from our exploratory data analysis: \n",
    "- The key feature engineering improvements were training the model on a clipped target feature and adding polynomial terms to the sensor features\n",
    "- Support vector regression is our best performing model (RMSE 23.15) \n"
   ]
  },
  {
   "cell_type": "markdown",
   "id": "6613ff7f",
   "metadata": {},
   "source": [
    "We rebuild the pipeline from scratch so that we can move the components to VS code as modules."
   ]
  },
  {
   "cell_type": "markdown",
   "id": "52434cac",
   "metadata": {},
   "source": [
    "### Load data and create RUL for training data"
   ]
  },
  {
   "cell_type": "code",
   "execution_count": 1,
   "id": "408e2bb8",
   "metadata": {},
   "outputs": [],
   "source": [
    "import pandas as pd\n",
    "import numpy as np\n",
    "from sklearn.preprocessing import PolynomialFeatures\n",
    "from sklearn.preprocessing import MinMaxScaler\n",
    "from sklearn.svm import SVR\n",
    "from sklearn.metrics import mean_squared_error\n",
    "from sklearn.pipeline import make_pipeline\n",
    "import matplotlib.pyplot as plt\n",
    "from sklearn.feature_selection import SelectFromModel\n",
    "from sklearn.compose import ColumnTransformer\n",
    "from sklearn.model_selection import GridSearchCV\n",
    "from sklearn.model_selection import RandomizedSearchCV\n",
    "from mlxtend.feature_selection import ColumnSelector\n",
    "from sklearn.pipeline import Pipeline\n",
    "import pickle"
   ]
  },
  {
   "cell_type": "code",
   "execution_count": 2,
   "id": "d72d7e55",
   "metadata": {},
   "outputs": [],
   "source": [
    "# load files\n",
    "def load_files():\n",
    "    try:\n",
    "        with open('train_FD001.txt', 'r') as f1, open('test_FD001.txt', 'r') as f2, open('RUL_FD001.txt', 'r') as f3:\n",
    "\n",
    "            index_names = ['unit_number', 'time_cycles']\n",
    "            setting_names = ['setting_1', 'setting_2', 'setting_3']\n",
    "            sensor_names = ['s_{}'.format(i+1) for i in range(0,21)]\n",
    "            col_names = index_names + setting_names + sensor_names\n",
    "\n",
    "            train_string = 'train_FD001.txt'\n",
    "            test_string = 'test_FD001.txt'\n",
    "            RUL_string = 'RUL_FD001.txt'\n",
    "\n",
    "            train = pd.read_csv(train_string,sep='\\s+',header=None,index_col=False,names=col_names)\n",
    "            test = pd.read_csv(test_string,sep='\\s+',header=None,index_col=False,names=col_names)\n",
    "            y_test = pd.read_csv(RUL_string,sep='\\s+',header=None,index_col=False,names=['RUL'])\n",
    "                       \n",
    "    except FileNotFoundError as e:\n",
    "        raise Exception(\"One or more files are missing: {}\".format(e))\n",
    "\n",
    "    # calculate RUL for the training data\n",
    "    def rul_func(df):    \n",
    "        return df.groupby('unit_number')['time_cycles'].max()\n",
    "    \n",
    "    # some clean up on the training data\n",
    "    temp = pd.DataFrame(rul_func(train)).reset_index()\n",
    "    train = train.merge(temp, left_on='unit_number', right_on='unit_number')  \n",
    "    train['RUL']=train['time_cycles_y']-train['time_cycles_x']\n",
    "    train = train.rename(columns={'time_cycles_x': 'time_cycles'}) # rename to original\n",
    "    train = train.drop('time_cycles_y', axis=1) # drop the max cycle column\n",
    "    \n",
    "    return train, test, y_test"
   ]
  },
  {
   "cell_type": "code",
   "execution_count": 3,
   "id": "75812826",
   "metadata": {},
   "outputs": [],
   "source": [
    "train = load_files()[0]\n",
    "test = load_files()[1]\n",
    "rul = load_files()[2]"
   ]
  },
  {
   "cell_type": "markdown",
   "id": "dd2b11ea",
   "metadata": {},
   "source": [
    "train.head()"
   ]
  },
  {
   "cell_type": "code",
   "execution_count": 4,
   "id": "3cae3b39",
   "metadata": {},
   "outputs": [
    {
     "data": {
      "text/html": [
       "<div>\n",
       "<style scoped>\n",
       "    .dataframe tbody tr th:only-of-type {\n",
       "        vertical-align: middle;\n",
       "    }\n",
       "\n",
       "    .dataframe tbody tr th {\n",
       "        vertical-align: top;\n",
       "    }\n",
       "\n",
       "    .dataframe thead th {\n",
       "        text-align: right;\n",
       "    }\n",
       "</style>\n",
       "<table border=\"1\" class=\"dataframe\">\n",
       "  <thead>\n",
       "    <tr style=\"text-align: right;\">\n",
       "      <th></th>\n",
       "      <th>unit_number</th>\n",
       "      <th>time_cycles</th>\n",
       "      <th>setting_1</th>\n",
       "      <th>setting_2</th>\n",
       "      <th>setting_3</th>\n",
       "      <th>s_1</th>\n",
       "      <th>s_2</th>\n",
       "      <th>s_3</th>\n",
       "      <th>s_4</th>\n",
       "      <th>s_5</th>\n",
       "      <th>...</th>\n",
       "      <th>s_12</th>\n",
       "      <th>s_13</th>\n",
       "      <th>s_14</th>\n",
       "      <th>s_15</th>\n",
       "      <th>s_16</th>\n",
       "      <th>s_17</th>\n",
       "      <th>s_18</th>\n",
       "      <th>s_19</th>\n",
       "      <th>s_20</th>\n",
       "      <th>s_21</th>\n",
       "    </tr>\n",
       "  </thead>\n",
       "  <tbody>\n",
       "    <tr>\n",
       "      <th>0</th>\n",
       "      <td>1</td>\n",
       "      <td>1</td>\n",
       "      <td>0.0023</td>\n",
       "      <td>0.0003</td>\n",
       "      <td>100.0</td>\n",
       "      <td>518.67</td>\n",
       "      <td>643.02</td>\n",
       "      <td>1585.29</td>\n",
       "      <td>1398.21</td>\n",
       "      <td>14.62</td>\n",
       "      <td>...</td>\n",
       "      <td>521.72</td>\n",
       "      <td>2388.03</td>\n",
       "      <td>8125.55</td>\n",
       "      <td>8.4052</td>\n",
       "      <td>0.03</td>\n",
       "      <td>392</td>\n",
       "      <td>2388</td>\n",
       "      <td>100.0</td>\n",
       "      <td>38.86</td>\n",
       "      <td>23.3735</td>\n",
       "    </tr>\n",
       "    <tr>\n",
       "      <th>1</th>\n",
       "      <td>1</td>\n",
       "      <td>2</td>\n",
       "      <td>-0.0027</td>\n",
       "      <td>-0.0003</td>\n",
       "      <td>100.0</td>\n",
       "      <td>518.67</td>\n",
       "      <td>641.71</td>\n",
       "      <td>1588.45</td>\n",
       "      <td>1395.42</td>\n",
       "      <td>14.62</td>\n",
       "      <td>...</td>\n",
       "      <td>522.16</td>\n",
       "      <td>2388.06</td>\n",
       "      <td>8139.62</td>\n",
       "      <td>8.3803</td>\n",
       "      <td>0.03</td>\n",
       "      <td>393</td>\n",
       "      <td>2388</td>\n",
       "      <td>100.0</td>\n",
       "      <td>39.02</td>\n",
       "      <td>23.3916</td>\n",
       "    </tr>\n",
       "    <tr>\n",
       "      <th>2</th>\n",
       "      <td>1</td>\n",
       "      <td>3</td>\n",
       "      <td>0.0003</td>\n",
       "      <td>0.0001</td>\n",
       "      <td>100.0</td>\n",
       "      <td>518.67</td>\n",
       "      <td>642.46</td>\n",
       "      <td>1586.94</td>\n",
       "      <td>1401.34</td>\n",
       "      <td>14.62</td>\n",
       "      <td>...</td>\n",
       "      <td>521.97</td>\n",
       "      <td>2388.03</td>\n",
       "      <td>8130.10</td>\n",
       "      <td>8.4441</td>\n",
       "      <td>0.03</td>\n",
       "      <td>393</td>\n",
       "      <td>2388</td>\n",
       "      <td>100.0</td>\n",
       "      <td>39.08</td>\n",
       "      <td>23.4166</td>\n",
       "    </tr>\n",
       "    <tr>\n",
       "      <th>3</th>\n",
       "      <td>1</td>\n",
       "      <td>4</td>\n",
       "      <td>0.0042</td>\n",
       "      <td>0.0000</td>\n",
       "      <td>100.0</td>\n",
       "      <td>518.67</td>\n",
       "      <td>642.44</td>\n",
       "      <td>1584.12</td>\n",
       "      <td>1406.42</td>\n",
       "      <td>14.62</td>\n",
       "      <td>...</td>\n",
       "      <td>521.38</td>\n",
       "      <td>2388.05</td>\n",
       "      <td>8132.90</td>\n",
       "      <td>8.3917</td>\n",
       "      <td>0.03</td>\n",
       "      <td>391</td>\n",
       "      <td>2388</td>\n",
       "      <td>100.0</td>\n",
       "      <td>39.00</td>\n",
       "      <td>23.3737</td>\n",
       "    </tr>\n",
       "    <tr>\n",
       "      <th>4</th>\n",
       "      <td>1</td>\n",
       "      <td>5</td>\n",
       "      <td>0.0014</td>\n",
       "      <td>0.0000</td>\n",
       "      <td>100.0</td>\n",
       "      <td>518.67</td>\n",
       "      <td>642.51</td>\n",
       "      <td>1587.19</td>\n",
       "      <td>1401.92</td>\n",
       "      <td>14.62</td>\n",
       "      <td>...</td>\n",
       "      <td>522.15</td>\n",
       "      <td>2388.03</td>\n",
       "      <td>8129.54</td>\n",
       "      <td>8.4031</td>\n",
       "      <td>0.03</td>\n",
       "      <td>390</td>\n",
       "      <td>2388</td>\n",
       "      <td>100.0</td>\n",
       "      <td>38.99</td>\n",
       "      <td>23.4130</td>\n",
       "    </tr>\n",
       "  </tbody>\n",
       "</table>\n",
       "<p>5 rows × 26 columns</p>\n",
       "</div>"
      ],
      "text/plain": [
       "   unit_number  time_cycles  setting_1  setting_2  setting_3     s_1     s_2  \\\n",
       "0            1            1     0.0023     0.0003      100.0  518.67  643.02   \n",
       "1            1            2    -0.0027    -0.0003      100.0  518.67  641.71   \n",
       "2            1            3     0.0003     0.0001      100.0  518.67  642.46   \n",
       "3            1            4     0.0042     0.0000      100.0  518.67  642.44   \n",
       "4            1            5     0.0014     0.0000      100.0  518.67  642.51   \n",
       "\n",
       "       s_3      s_4    s_5  ...    s_12     s_13     s_14    s_15  s_16  s_17  \\\n",
       "0  1585.29  1398.21  14.62  ...  521.72  2388.03  8125.55  8.4052  0.03   392   \n",
       "1  1588.45  1395.42  14.62  ...  522.16  2388.06  8139.62  8.3803  0.03   393   \n",
       "2  1586.94  1401.34  14.62  ...  521.97  2388.03  8130.10  8.4441  0.03   393   \n",
       "3  1584.12  1406.42  14.62  ...  521.38  2388.05  8132.90  8.3917  0.03   391   \n",
       "4  1587.19  1401.92  14.62  ...  522.15  2388.03  8129.54  8.4031  0.03   390   \n",
       "\n",
       "   s_18   s_19   s_20     s_21  \n",
       "0  2388  100.0  38.86  23.3735  \n",
       "1  2388  100.0  39.02  23.3916  \n",
       "2  2388  100.0  39.08  23.4166  \n",
       "3  2388  100.0  39.00  23.3737  \n",
       "4  2388  100.0  38.99  23.4130  \n",
       "\n",
       "[5 rows x 26 columns]"
      ]
     },
     "execution_count": 4,
     "metadata": {},
     "output_type": "execute_result"
    }
   ],
   "source": [
    "test.head()"
   ]
  },
  {
   "cell_type": "markdown",
   "id": "55ff1a1b",
   "metadata": {},
   "source": [
    "<div class=\"alert alert-info\" role=\"alert\">\n",
    "\n",
    "Note that the RUL for the test data only exists up to a certain timed cycle, so we will need to adjust our test set to reflect this fact.\n",
    "    \n",
    "</div>"
   ]
  },
  {
   "cell_type": "code",
   "execution_count": 5,
   "id": "6b812972",
   "metadata": {},
   "outputs": [
    {
     "data": {
      "text/html": [
       "<div>\n",
       "<style scoped>\n",
       "    .dataframe tbody tr th:only-of-type {\n",
       "        vertical-align: middle;\n",
       "    }\n",
       "\n",
       "    .dataframe tbody tr th {\n",
       "        vertical-align: top;\n",
       "    }\n",
       "\n",
       "    .dataframe thead th {\n",
       "        text-align: right;\n",
       "    }\n",
       "</style>\n",
       "<table border=\"1\" class=\"dataframe\">\n",
       "  <thead>\n",
       "    <tr style=\"text-align: right;\">\n",
       "      <th></th>\n",
       "      <th>0</th>\n",
       "      <th>1</th>\n",
       "      <th>2</th>\n",
       "      <th>3</th>\n",
       "      <th>4</th>\n",
       "      <th>5</th>\n",
       "      <th>6</th>\n",
       "      <th>7</th>\n",
       "      <th>8</th>\n",
       "      <th>9</th>\n",
       "      <th>...</th>\n",
       "      <th>90</th>\n",
       "      <th>91</th>\n",
       "      <th>92</th>\n",
       "      <th>93</th>\n",
       "      <th>94</th>\n",
       "      <th>95</th>\n",
       "      <th>96</th>\n",
       "      <th>97</th>\n",
       "      <th>98</th>\n",
       "      <th>99</th>\n",
       "    </tr>\n",
       "  </thead>\n",
       "  <tbody>\n",
       "    <tr>\n",
       "      <th>RUL</th>\n",
       "      <td>112</td>\n",
       "      <td>98</td>\n",
       "      <td>69</td>\n",
       "      <td>82</td>\n",
       "      <td>91</td>\n",
       "      <td>93</td>\n",
       "      <td>91</td>\n",
       "      <td>95</td>\n",
       "      <td>111</td>\n",
       "      <td>96</td>\n",
       "      <td>...</td>\n",
       "      <td>38</td>\n",
       "      <td>20</td>\n",
       "      <td>85</td>\n",
       "      <td>55</td>\n",
       "      <td>128</td>\n",
       "      <td>137</td>\n",
       "      <td>82</td>\n",
       "      <td>59</td>\n",
       "      <td>117</td>\n",
       "      <td>20</td>\n",
       "    </tr>\n",
       "  </tbody>\n",
       "</table>\n",
       "<p>1 rows × 100 columns</p>\n",
       "</div>"
      ],
      "text/plain": [
       "      0   1   2   3   4   5   6   7    8   9   ...  90  91  92  93   94   95  \\\n",
       "RUL  112  98  69  82  91  93  91  95  111  96  ...  38  20  85  55  128  137   \n",
       "\n",
       "     96  97   98  99  \n",
       "RUL  82  59  117  20  \n",
       "\n",
       "[1 rows x 100 columns]"
      ]
     },
     "execution_count": 5,
     "metadata": {},
     "output_type": "execute_result"
    }
   ],
   "source": [
    "rul.transpose()"
   ]
  },
  {
   "cell_type": "code",
   "execution_count": 6,
   "id": "2eb9fd41",
   "metadata": {},
   "outputs": [
    {
     "data": {
      "text/html": [
       "<div>\n",
       "<style scoped>\n",
       "    .dataframe tbody tr th:only-of-type {\n",
       "        vertical-align: middle;\n",
       "    }\n",
       "\n",
       "    .dataframe tbody tr th {\n",
       "        vertical-align: top;\n",
       "    }\n",
       "\n",
       "    .dataframe thead th {\n",
       "        text-align: right;\n",
       "    }\n",
       "</style>\n",
       "<table border=\"1\" class=\"dataframe\">\n",
       "  <thead>\n",
       "    <tr style=\"text-align: right;\">\n",
       "      <th></th>\n",
       "      <th>unit_number</th>\n",
       "      <th>time_cycles</th>\n",
       "      <th>setting_1</th>\n",
       "      <th>setting_2</th>\n",
       "      <th>setting_3</th>\n",
       "      <th>s_1</th>\n",
       "      <th>s_2</th>\n",
       "      <th>s_3</th>\n",
       "      <th>s_4</th>\n",
       "      <th>s_5</th>\n",
       "      <th>...</th>\n",
       "      <th>s_12</th>\n",
       "      <th>s_13</th>\n",
       "      <th>s_14</th>\n",
       "      <th>s_15</th>\n",
       "      <th>s_16</th>\n",
       "      <th>s_17</th>\n",
       "      <th>s_18</th>\n",
       "      <th>s_19</th>\n",
       "      <th>s_20</th>\n",
       "      <th>s_21</th>\n",
       "    </tr>\n",
       "  </thead>\n",
       "  <tbody>\n",
       "    <tr>\n",
       "      <th>0</th>\n",
       "      <td>1</td>\n",
       "      <td>31</td>\n",
       "      <td>-0.0006</td>\n",
       "      <td>0.0004</td>\n",
       "      <td>100.0</td>\n",
       "      <td>518.67</td>\n",
       "      <td>642.58</td>\n",
       "      <td>1581.22</td>\n",
       "      <td>1398.91</td>\n",
       "      <td>14.62</td>\n",
       "      <td>...</td>\n",
       "      <td>521.79</td>\n",
       "      <td>2388.06</td>\n",
       "      <td>8130.11</td>\n",
       "      <td>8.4024</td>\n",
       "      <td>0.03</td>\n",
       "      <td>393</td>\n",
       "      <td>2388</td>\n",
       "      <td>100.0</td>\n",
       "      <td>38.81</td>\n",
       "      <td>23.3552</td>\n",
       "    </tr>\n",
       "    <tr>\n",
       "      <th>1</th>\n",
       "      <td>2</td>\n",
       "      <td>49</td>\n",
       "      <td>0.0018</td>\n",
       "      <td>-0.0001</td>\n",
       "      <td>100.0</td>\n",
       "      <td>518.67</td>\n",
       "      <td>642.55</td>\n",
       "      <td>1586.59</td>\n",
       "      <td>1410.83</td>\n",
       "      <td>14.62</td>\n",
       "      <td>...</td>\n",
       "      <td>521.74</td>\n",
       "      <td>2388.09</td>\n",
       "      <td>8126.90</td>\n",
       "      <td>8.4505</td>\n",
       "      <td>0.03</td>\n",
       "      <td>391</td>\n",
       "      <td>2388</td>\n",
       "      <td>100.0</td>\n",
       "      <td>38.81</td>\n",
       "      <td>23.2618</td>\n",
       "    </tr>\n",
       "    <tr>\n",
       "      <th>2</th>\n",
       "      <td>3</td>\n",
       "      <td>126</td>\n",
       "      <td>-0.0016</td>\n",
       "      <td>0.0004</td>\n",
       "      <td>100.0</td>\n",
       "      <td>518.67</td>\n",
       "      <td>642.88</td>\n",
       "      <td>1589.75</td>\n",
       "      <td>1418.89</td>\n",
       "      <td>14.62</td>\n",
       "      <td>...</td>\n",
       "      <td>520.83</td>\n",
       "      <td>2388.14</td>\n",
       "      <td>8131.46</td>\n",
       "      <td>8.4119</td>\n",
       "      <td>0.03</td>\n",
       "      <td>395</td>\n",
       "      <td>2388</td>\n",
       "      <td>100.0</td>\n",
       "      <td>38.93</td>\n",
       "      <td>23.2740</td>\n",
       "    </tr>\n",
       "    <tr>\n",
       "      <th>3</th>\n",
       "      <td>4</td>\n",
       "      <td>106</td>\n",
       "      <td>0.0012</td>\n",
       "      <td>0.0004</td>\n",
       "      <td>100.0</td>\n",
       "      <td>518.67</td>\n",
       "      <td>642.78</td>\n",
       "      <td>1594.53</td>\n",
       "      <td>1406.88</td>\n",
       "      <td>14.62</td>\n",
       "      <td>...</td>\n",
       "      <td>521.88</td>\n",
       "      <td>2388.11</td>\n",
       "      <td>8133.64</td>\n",
       "      <td>8.4634</td>\n",
       "      <td>0.03</td>\n",
       "      <td>395</td>\n",
       "      <td>2388</td>\n",
       "      <td>100.0</td>\n",
       "      <td>38.58</td>\n",
       "      <td>23.2581</td>\n",
       "    </tr>\n",
       "    <tr>\n",
       "      <th>4</th>\n",
       "      <td>5</td>\n",
       "      <td>98</td>\n",
       "      <td>-0.0013</td>\n",
       "      <td>-0.0004</td>\n",
       "      <td>100.0</td>\n",
       "      <td>518.67</td>\n",
       "      <td>642.27</td>\n",
       "      <td>1589.94</td>\n",
       "      <td>1419.36</td>\n",
       "      <td>14.62</td>\n",
       "      <td>...</td>\n",
       "      <td>521.00</td>\n",
       "      <td>2388.15</td>\n",
       "      <td>8125.74</td>\n",
       "      <td>8.4362</td>\n",
       "      <td>0.03</td>\n",
       "      <td>394</td>\n",
       "      <td>2388</td>\n",
       "      <td>100.0</td>\n",
       "      <td>38.75</td>\n",
       "      <td>23.4117</td>\n",
       "    </tr>\n",
       "  </tbody>\n",
       "</table>\n",
       "<p>5 rows × 26 columns</p>\n",
       "</div>"
      ],
      "text/plain": [
       "   unit_number  time_cycles  setting_1  setting_2  setting_3     s_1     s_2  \\\n",
       "0            1           31    -0.0006     0.0004      100.0  518.67  642.58   \n",
       "1            2           49     0.0018    -0.0001      100.0  518.67  642.55   \n",
       "2            3          126    -0.0016     0.0004      100.0  518.67  642.88   \n",
       "3            4          106     0.0012     0.0004      100.0  518.67  642.78   \n",
       "4            5           98    -0.0013    -0.0004      100.0  518.67  642.27   \n",
       "\n",
       "       s_3      s_4    s_5  ...    s_12     s_13     s_14    s_15  s_16  s_17  \\\n",
       "0  1581.22  1398.91  14.62  ...  521.79  2388.06  8130.11  8.4024  0.03   393   \n",
       "1  1586.59  1410.83  14.62  ...  521.74  2388.09  8126.90  8.4505  0.03   391   \n",
       "2  1589.75  1418.89  14.62  ...  520.83  2388.14  8131.46  8.4119  0.03   395   \n",
       "3  1594.53  1406.88  14.62  ...  521.88  2388.11  8133.64  8.4634  0.03   395   \n",
       "4  1589.94  1419.36  14.62  ...  521.00  2388.15  8125.74  8.4362  0.03   394   \n",
       "\n",
       "   s_18   s_19   s_20     s_21  \n",
       "0  2388  100.0  38.81  23.3552  \n",
       "1  2388  100.0  38.81  23.2618  \n",
       "2  2388  100.0  38.93  23.2740  \n",
       "3  2388  100.0  38.58  23.2581  \n",
       "4  2388  100.0  38.75  23.4117  \n",
       "\n",
       "[5 rows x 26 columns]"
      ]
     },
     "execution_count": 6,
     "metadata": {},
     "output_type": "execute_result"
    }
   ],
   "source": [
    "# group test set at max time cycle reading \n",
    "X_test = test.groupby('unit_number').last().reset_index()\n",
    "X_test.head()"
   ]
  },
  {
   "cell_type": "code",
   "execution_count": 7,
   "id": "745cd4b8",
   "metadata": {},
   "outputs": [
    {
     "data": {
      "text/html": [
       "<div>\n",
       "<style scoped>\n",
       "    .dataframe tbody tr th:only-of-type {\n",
       "        vertical-align: middle;\n",
       "    }\n",
       "\n",
       "    .dataframe tbody tr th {\n",
       "        vertical-align: top;\n",
       "    }\n",
       "\n",
       "    .dataframe thead th {\n",
       "        text-align: right;\n",
       "    }\n",
       "</style>\n",
       "<table border=\"1\" class=\"dataframe\">\n",
       "  <thead>\n",
       "    <tr style=\"text-align: right;\">\n",
       "      <th></th>\n",
       "      <th>unit_number</th>\n",
       "      <th>time_cycles</th>\n",
       "      <th>setting_1</th>\n",
       "      <th>setting_2</th>\n",
       "      <th>setting_3</th>\n",
       "      <th>s_1</th>\n",
       "      <th>s_2</th>\n",
       "      <th>s_3</th>\n",
       "      <th>s_4</th>\n",
       "      <th>s_5</th>\n",
       "      <th>...</th>\n",
       "      <th>s_13</th>\n",
       "      <th>s_14</th>\n",
       "      <th>s_15</th>\n",
       "      <th>s_16</th>\n",
       "      <th>s_17</th>\n",
       "      <th>s_18</th>\n",
       "      <th>s_19</th>\n",
       "      <th>s_20</th>\n",
       "      <th>s_21</th>\n",
       "      <th>RUL</th>\n",
       "    </tr>\n",
       "  </thead>\n",
       "  <tbody>\n",
       "    <tr>\n",
       "      <th>0</th>\n",
       "      <td>1</td>\n",
       "      <td>1</td>\n",
       "      <td>-0.0007</td>\n",
       "      <td>-0.0004</td>\n",
       "      <td>100.0</td>\n",
       "      <td>518.67</td>\n",
       "      <td>641.82</td>\n",
       "      <td>1589.70</td>\n",
       "      <td>1400.60</td>\n",
       "      <td>14.62</td>\n",
       "      <td>...</td>\n",
       "      <td>2388.02</td>\n",
       "      <td>8138.62</td>\n",
       "      <td>8.4195</td>\n",
       "      <td>0.03</td>\n",
       "      <td>392</td>\n",
       "      <td>2388</td>\n",
       "      <td>100.0</td>\n",
       "      <td>39.06</td>\n",
       "      <td>23.4190</td>\n",
       "      <td>191</td>\n",
       "    </tr>\n",
       "    <tr>\n",
       "      <th>1</th>\n",
       "      <td>1</td>\n",
       "      <td>2</td>\n",
       "      <td>0.0019</td>\n",
       "      <td>-0.0003</td>\n",
       "      <td>100.0</td>\n",
       "      <td>518.67</td>\n",
       "      <td>642.15</td>\n",
       "      <td>1591.82</td>\n",
       "      <td>1403.14</td>\n",
       "      <td>14.62</td>\n",
       "      <td>...</td>\n",
       "      <td>2388.07</td>\n",
       "      <td>8131.49</td>\n",
       "      <td>8.4318</td>\n",
       "      <td>0.03</td>\n",
       "      <td>392</td>\n",
       "      <td>2388</td>\n",
       "      <td>100.0</td>\n",
       "      <td>39.00</td>\n",
       "      <td>23.4236</td>\n",
       "      <td>190</td>\n",
       "    </tr>\n",
       "    <tr>\n",
       "      <th>2</th>\n",
       "      <td>1</td>\n",
       "      <td>3</td>\n",
       "      <td>-0.0043</td>\n",
       "      <td>0.0003</td>\n",
       "      <td>100.0</td>\n",
       "      <td>518.67</td>\n",
       "      <td>642.35</td>\n",
       "      <td>1587.99</td>\n",
       "      <td>1404.20</td>\n",
       "      <td>14.62</td>\n",
       "      <td>...</td>\n",
       "      <td>2388.03</td>\n",
       "      <td>8133.23</td>\n",
       "      <td>8.4178</td>\n",
       "      <td>0.03</td>\n",
       "      <td>390</td>\n",
       "      <td>2388</td>\n",
       "      <td>100.0</td>\n",
       "      <td>38.95</td>\n",
       "      <td>23.3442</td>\n",
       "      <td>189</td>\n",
       "    </tr>\n",
       "    <tr>\n",
       "      <th>3</th>\n",
       "      <td>1</td>\n",
       "      <td>4</td>\n",
       "      <td>0.0007</td>\n",
       "      <td>0.0000</td>\n",
       "      <td>100.0</td>\n",
       "      <td>518.67</td>\n",
       "      <td>642.35</td>\n",
       "      <td>1582.79</td>\n",
       "      <td>1401.87</td>\n",
       "      <td>14.62</td>\n",
       "      <td>...</td>\n",
       "      <td>2388.08</td>\n",
       "      <td>8133.83</td>\n",
       "      <td>8.3682</td>\n",
       "      <td>0.03</td>\n",
       "      <td>392</td>\n",
       "      <td>2388</td>\n",
       "      <td>100.0</td>\n",
       "      <td>38.88</td>\n",
       "      <td>23.3739</td>\n",
       "      <td>188</td>\n",
       "    </tr>\n",
       "    <tr>\n",
       "      <th>4</th>\n",
       "      <td>1</td>\n",
       "      <td>5</td>\n",
       "      <td>-0.0019</td>\n",
       "      <td>-0.0002</td>\n",
       "      <td>100.0</td>\n",
       "      <td>518.67</td>\n",
       "      <td>642.37</td>\n",
       "      <td>1582.85</td>\n",
       "      <td>1406.22</td>\n",
       "      <td>14.62</td>\n",
       "      <td>...</td>\n",
       "      <td>2388.04</td>\n",
       "      <td>8133.80</td>\n",
       "      <td>8.4294</td>\n",
       "      <td>0.03</td>\n",
       "      <td>393</td>\n",
       "      <td>2388</td>\n",
       "      <td>100.0</td>\n",
       "      <td>38.90</td>\n",
       "      <td>23.4044</td>\n",
       "      <td>187</td>\n",
       "    </tr>\n",
       "  </tbody>\n",
       "</table>\n",
       "<p>5 rows × 27 columns</p>\n",
       "</div>"
      ],
      "text/plain": [
       "   unit_number  time_cycles  setting_1  setting_2  setting_3     s_1     s_2  \\\n",
       "0            1            1    -0.0007    -0.0004      100.0  518.67  641.82   \n",
       "1            1            2     0.0019    -0.0003      100.0  518.67  642.15   \n",
       "2            1            3    -0.0043     0.0003      100.0  518.67  642.35   \n",
       "3            1            4     0.0007     0.0000      100.0  518.67  642.35   \n",
       "4            1            5    -0.0019    -0.0002      100.0  518.67  642.37   \n",
       "\n",
       "       s_3      s_4    s_5  ...     s_13     s_14    s_15  s_16  s_17  s_18  \\\n",
       "0  1589.70  1400.60  14.62  ...  2388.02  8138.62  8.4195  0.03   392  2388   \n",
       "1  1591.82  1403.14  14.62  ...  2388.07  8131.49  8.4318  0.03   392  2388   \n",
       "2  1587.99  1404.20  14.62  ...  2388.03  8133.23  8.4178  0.03   390  2388   \n",
       "3  1582.79  1401.87  14.62  ...  2388.08  8133.83  8.3682  0.03   392  2388   \n",
       "4  1582.85  1406.22  14.62  ...  2388.04  8133.80  8.4294  0.03   393  2388   \n",
       "\n",
       "    s_19   s_20     s_21  RUL  \n",
       "0  100.0  39.06  23.4190  191  \n",
       "1  100.0  39.00  23.4236  190  \n",
       "2  100.0  38.95  23.3442  189  \n",
       "3  100.0  38.88  23.3739  188  \n",
       "4  100.0  38.90  23.4044  187  \n",
       "\n",
       "[5 rows x 27 columns]"
      ]
     },
     "execution_count": 7,
     "metadata": {},
     "output_type": "execute_result"
    }
   ],
   "source": [
    "train.head()"
   ]
  },
  {
   "cell_type": "code",
   "execution_count": 36,
   "id": "f87a1897",
   "metadata": {},
   "outputs": [
    {
     "data": {
      "text/plain": [
       "518.67"
      ]
     },
     "execution_count": 36,
     "metadata": {},
     "output_type": "execute_result"
    }
   ],
   "source": [
    "train.s_1.mean()"
   ]
  },
  {
   "cell_type": "code",
   "execution_count": 59,
   "id": "964fb4a6",
   "metadata": {},
   "outputs": [],
   "source": [
    "means = []\n",
    "maxes = []\n",
    "for i in range(21):\n",
    "    col_mean = train.iloc[:,i+5:i+6].mean()[0]\n",
    "    col_max = train.iloc[:,i+5:i+6].max()[0]\n",
    "    means.append(col_mean)\n",
    "    maxes.append(col_max + 100)"
   ]
  },
  {
   "cell_type": "code",
   "execution_count": 86,
   "id": "9f3ae3fc",
   "metadata": {},
   "outputs": [
    {
     "data": {
      "text/plain": [
       "(21,)"
      ]
     },
     "execution_count": 86,
     "metadata": {},
     "output_type": "execute_result"
    }
   ],
   "source": [
    "np.array(means).T.shape"
   ]
  },
  {
   "cell_type": "code",
   "execution_count": 87,
   "id": "864cb779",
   "metadata": {},
   "outputs": [
    {
     "data": {
      "text/plain": [
       "(21,)"
      ]
     },
     "execution_count": 87,
     "metadata": {},
     "output_type": "execute_result"
    }
   ],
   "source": [
    "np.array(means).shape"
   ]
  },
  {
   "cell_type": "markdown",
   "id": "67f51ef1",
   "metadata": {},
   "source": [
    "### Linear-Piecewise Degredation Model"
   ]
  },
  {
   "cell_type": "markdown",
   "id": "6cb53980",
   "metadata": {},
   "source": [
    "We found that the linear piece-wise degredation assumption for RUL yeilded the best result. This can be seen when looking at each sensor's relationship with RUL. **In nearly all cases the inflection point occurs around an RUL of 100 to 120.** We use two methods of dealing with the non-linearity:\n",
    "\n",
    "- train the model on RUL values below 100 (i.e. clip the upper end of RUL in the tranining data)\n",
    "- add polynomial terms to relevant sensors"
   ]
  },
  {
   "cell_type": "code",
   "execution_count": 7,
   "id": "d8d14545",
   "metadata": {},
   "outputs": [
    {
     "data": {
      "image/png": "[encoded data removed]",
      "text/plain": [
       "<Figure size 640x480 with 1 Axes>"
      ]
     },
     "metadata": {},
     "output_type": "display_data"
    }
   ],
   "source": [
    "x = train.RUL\n",
    "y = train.s_20 # pick a sensor with non-constant readings\n",
    "plt.scatter(x, y)\n",
    "plt.gca().invert_xaxis()\n",
    "# Add a vertical line annotation at x-coordinate 3\n",
    "plt.axvline(x=100, color='red', linestyle='--')\n",
    "plt.axhline(y=y.mean(), color='red', linestyle='--')\n",
    "plt.show()"
   ]
  },
  {
   "cell_type": "markdown",
   "id": "9796ceb1",
   "metadata": {},
   "source": [
    "### Data preprocessing pipline"
   ]
  },
  {
   "cell_type": "markdown",
   "id": "0b31a8a3",
   "metadata": {},
   "source": [
    "#### X_train, y_train"
   ]
  },
  {
   "cell_type": "code",
   "execution_count": 8,
   "id": "8d1b1f40",
   "metadata": {},
   "outputs": [],
   "source": [
    "# clip RUL in training data\n",
    "y_train = train.RUL.clip(upper=100)"
   ]
  },
  {
   "cell_type": "code",
   "execution_count": 9,
   "id": "41459274",
   "metadata": {},
   "outputs": [],
   "source": [
    "X_train = train.drop('RUL', axis=1)"
   ]
  },
  {
   "cell_type": "code",
   "execution_count": 10,
   "id": "c9b30bb0",
   "metadata": {},
   "outputs": [],
   "source": [
    "# feature from EDA we know are not required\n",
    "drop_list = ['unit_number', 'time_cycles', 'setting_1', 'setting_2', 'setting_3', \n",
    "             's_1', 's_5', 's_6', 's_10', 's_16', 's_18', 's_19']"
   ]
  },
  {
   "cell_type": "code",
   "execution_count": 11,
   "id": "7f64d012",
   "metadata": {},
   "outputs": [],
   "source": [
    "X_train = X_train.drop(drop_list, axis=1)\n",
    "X_test = X_test.drop(drop_list, axis=1)"
   ]
  },
  {
   "cell_type": "code",
   "execution_count": 12,
   "id": "c9711924",
   "metadata": {},
   "outputs": [
    {
     "data": {
      "text/html": [
       "<div>\n",
       "<style scoped>\n",
       "    .dataframe tbody tr th:only-of-type {\n",
       "        vertical-align: middle;\n",
       "    }\n",
       "\n",
       "    .dataframe tbody tr th {\n",
       "        vertical-align: top;\n",
       "    }\n",
       "\n",
       "    .dataframe thead th {\n",
       "        text-align: right;\n",
       "    }\n",
       "</style>\n",
       "<table border=\"1\" class=\"dataframe\">\n",
       "  <thead>\n",
       "    <tr style=\"text-align: right;\">\n",
       "      <th></th>\n",
       "      <th>s_2</th>\n",
       "      <th>s_3</th>\n",
       "      <th>s_4</th>\n",
       "      <th>s_7</th>\n",
       "      <th>s_8</th>\n",
       "      <th>s_9</th>\n",
       "      <th>s_11</th>\n",
       "      <th>s_12</th>\n",
       "      <th>s_13</th>\n",
       "      <th>s_14</th>\n",
       "      <th>s_15</th>\n",
       "      <th>s_17</th>\n",
       "      <th>s_20</th>\n",
       "      <th>s_21</th>\n",
       "    </tr>\n",
       "  </thead>\n",
       "  <tbody>\n",
       "    <tr>\n",
       "      <th>16368</th>\n",
       "      <td>643.13</td>\n",
       "      <td>1599.45</td>\n",
       "      <td>1427.73</td>\n",
       "      <td>551.84</td>\n",
       "      <td>2388.27</td>\n",
       "      <td>9046.41</td>\n",
       "      <td>48.06</td>\n",
       "      <td>519.88</td>\n",
       "      <td>2388.28</td>\n",
       "      <td>8128.72</td>\n",
       "      <td>8.5199</td>\n",
       "      <td>394</td>\n",
       "      <td>38.43</td>\n",
       "      <td>23.0834</td>\n",
       "    </tr>\n",
       "    <tr>\n",
       "      <th>6185</th>\n",
       "      <td>642.54</td>\n",
       "      <td>1594.44</td>\n",
       "      <td>1424.13</td>\n",
       "      <td>551.98</td>\n",
       "      <td>2388.18</td>\n",
       "      <td>9060.50</td>\n",
       "      <td>47.67</td>\n",
       "      <td>521.03</td>\n",
       "      <td>2388.16</td>\n",
       "      <td>8133.52</td>\n",
       "      <td>8.4680</td>\n",
       "      <td>393</td>\n",
       "      <td>38.69</td>\n",
       "      <td>23.2373</td>\n",
       "    </tr>\n",
       "  </tbody>\n",
       "</table>\n",
       "</div>"
      ],
      "text/plain": [
       "          s_2      s_3      s_4     s_7      s_8      s_9   s_11    s_12  \\\n",
       "16368  643.13  1599.45  1427.73  551.84  2388.27  9046.41  48.06  519.88   \n",
       "6185   642.54  1594.44  1424.13  551.98  2388.18  9060.50  47.67  521.03   \n",
       "\n",
       "          s_13     s_14    s_15  s_17   s_20     s_21  \n",
       "16368  2388.28  8128.72  8.5199   394  38.43  23.0834  \n",
       "6185   2388.16  8133.52  8.4680   393  38.69  23.2373  "
      ]
     },
     "execution_count": 12,
     "metadata": {},
     "output_type": "execute_result"
    }
   ],
   "source": [
    "X_train.sample(2)"
   ]
  },
  {
   "cell_type": "code",
   "execution_count": 13,
   "id": "3c3e6cd0",
   "metadata": {},
   "outputs": [
    {
     "data": {
      "text/html": [
       "<div>\n",
       "<style scoped>\n",
       "    .dataframe tbody tr th:only-of-type {\n",
       "        vertical-align: middle;\n",
       "    }\n",
       "\n",
       "    .dataframe tbody tr th {\n",
       "        vertical-align: top;\n",
       "    }\n",
       "\n",
       "    .dataframe thead th {\n",
       "        text-align: right;\n",
       "    }\n",
       "</style>\n",
       "<table border=\"1\" class=\"dataframe\">\n",
       "  <thead>\n",
       "    <tr style=\"text-align: right;\">\n",
       "      <th></th>\n",
       "      <th>s_2</th>\n",
       "      <th>s_3</th>\n",
       "      <th>s_4</th>\n",
       "      <th>s_7</th>\n",
       "      <th>s_8</th>\n",
       "      <th>s_9</th>\n",
       "      <th>s_11</th>\n",
       "      <th>s_12</th>\n",
       "      <th>s_13</th>\n",
       "      <th>s_14</th>\n",
       "      <th>s_15</th>\n",
       "      <th>s_17</th>\n",
       "      <th>s_20</th>\n",
       "      <th>s_21</th>\n",
       "    </tr>\n",
       "  </thead>\n",
       "  <tbody>\n",
       "    <tr>\n",
       "      <th>40</th>\n",
       "      <td>642.54</td>\n",
       "      <td>1594.24</td>\n",
       "      <td>1416.76</td>\n",
       "      <td>553.02</td>\n",
       "      <td>2388.19</td>\n",
       "      <td>9036.88</td>\n",
       "      <td>47.64</td>\n",
       "      <td>520.61</td>\n",
       "      <td>2388.20</td>\n",
       "      <td>8115.82</td>\n",
       "      <td>8.4533</td>\n",
       "      <td>395</td>\n",
       "      <td>38.84</td>\n",
       "      <td>23.1718</td>\n",
       "    </tr>\n",
       "    <tr>\n",
       "      <th>33</th>\n",
       "      <td>643.74</td>\n",
       "      <td>1600.38</td>\n",
       "      <td>1427.49</td>\n",
       "      <td>551.77</td>\n",
       "      <td>2388.29</td>\n",
       "      <td>9036.27</td>\n",
       "      <td>48.13</td>\n",
       "      <td>519.44</td>\n",
       "      <td>2388.25</td>\n",
       "      <td>8122.11</td>\n",
       "      <td>8.5158</td>\n",
       "      <td>397</td>\n",
       "      <td>38.62</td>\n",
       "      <td>23.0641</td>\n",
       "    </tr>\n",
       "  </tbody>\n",
       "</table>\n",
       "</div>"
      ],
      "text/plain": [
       "       s_2      s_3      s_4     s_7      s_8      s_9   s_11    s_12  \\\n",
       "40  642.54  1594.24  1416.76  553.02  2388.19  9036.88  47.64  520.61   \n",
       "33  643.74  1600.38  1427.49  551.77  2388.29  9036.27  48.13  519.44   \n",
       "\n",
       "       s_13     s_14    s_15  s_17   s_20     s_21  \n",
       "40  2388.20  8115.82  8.4533   395  38.84  23.1718  \n",
       "33  2388.25  8122.11  8.5158   397  38.62  23.0641  "
      ]
     },
     "execution_count": 13,
     "metadata": {},
     "output_type": "execute_result"
    }
   ],
   "source": [
    "X_test.sample(2)"
   ]
  },
  {
   "cell_type": "code",
   "execution_count": 14,
   "id": "7502a73d",
   "metadata": {},
   "outputs": [
    {
     "data": {
      "text/plain": [
       "((20631, 14), (100, 14), (20631,), (100, 1))"
      ]
     },
     "execution_count": 14,
     "metadata": {},
     "output_type": "execute_result"
    }
   ],
   "source": [
    "X_train.shape, X_test.shape, y_train.shape, rul.shape"
   ]
  },
  {
   "cell_type": "markdown",
   "id": "6819d08c",
   "metadata": {},
   "source": [
    "#### Feature engineering"
   ]
  },
  {
   "cell_type": "code",
   "execution_count": 15,
   "id": "df63da40",
   "metadata": {},
   "outputs": [],
   "source": [
    "# scaling and adding polynomials\n",
    "engineering_pipeline = make_pipeline(MinMaxScaler(),\n",
    "                                       PolynomialFeatures(2))"
   ]
  },
  {
   "cell_type": "code",
   "execution_count": 16,
   "id": "5547186f",
   "metadata": {},
   "outputs": [],
   "source": [
    "# fit and transform training data then transform test data\n",
    "X_train_fe = pd.DataFrame(engineering_pipeline.fit_transform(X_train), \n",
    "                          columns=engineering_pipeline.get_feature_names_out())\n",
    "X_test_fe = pd.DataFrame(engineering_pipeline.transform(X_test), \n",
    "                         columns=engineering_pipeline.get_feature_names_out())"
   ]
  },
  {
   "cell_type": "markdown",
   "id": "835e7bfc",
   "metadata": {},
   "source": [
    "#### Feature selection"
   ]
  },
  {
   "cell_type": "code",
   "execution_count": 17,
   "id": "9b48c4be",
   "metadata": {},
   "outputs": [
    {
     "data": {
      "text/html": [
       "<style>#sk-container-id-1 {color: black;background-color: white;}#sk-container-id-1 pre{padding: 0;}#sk-container-id-1 div.sk-toggleable {background-color: white;}#sk-container-id-1 label.sk-toggleable__label {cursor: pointer;display: block;width: 100%;margin-bottom: 0;padding: 0.3em;box-sizing: border-box;text-align: center;}#sk-container-id-1 label.sk-toggleable__label-arrow:before {content: \"▸\";float: left;margin-right: 0.25em;color: #696969;}#sk-container-id-1 label.sk-toggleable__label-arrow:hover:before {color: black;}#sk-container-id-1 div.sk-estimator:hover label.sk-toggleable__label-arrow:before {color: black;}#sk-container-id-1 div.sk-toggleable__content {max-height: 0;max-width: 0;overflow: hidden;text-align: left;background-color: #f0f8ff;}#sk-container-id-1 div.sk-toggleable__content pre {margin: 0.2em;color: black;border-radius: 0.25em;background-color: #f0f8ff;}#sk-container-id-1 input.sk-toggleable__control:checked~div.sk-toggleable__content {max-height: 200px;max-width: 100%;overflow: auto;}#sk-container-id-1 input.sk-toggleable__control:checked~label.sk-toggleable__label-arrow:before {content: \"▾\";}#sk-container-id-1 div.sk-estimator input.sk-toggleable__control:checked~label.sk-toggleable__label {background-color: #d4ebff;}#sk-container-id-1 div.sk-label input.sk-toggleable__control:checked~label.sk-toggleable__label {background-color: #d4ebff;}#sk-container-id-1 input.sk-hidden--visually {border: 0;clip: rect(1px 1px 1px 1px);clip: rect(1px, 1px, 1px, 1px);height: 1px;margin: -1px;overflow: hidden;padding: 0;position: absolute;width: 1px;}#sk-container-id-1 div.sk-estimator {font-family: monospace;background-color: #f0f8ff;border: 1px dotted black;border-radius: 0.25em;box-sizing: border-box;margin-bottom: 0.5em;}#sk-container-id-1 div.sk-estimator:hover {background-color: #d4ebff;}#sk-container-id-1 div.sk-parallel-item::after {content: \"\";width: 100%;border-bottom: 1px solid gray;flex-grow: 1;}#sk-container-id-1 div.sk-label:hover label.sk-toggleable__label {background-color: #d4ebff;}#sk-container-id-1 div.sk-serial::before {content: \"\";position: absolute;border-left: 1px solid gray;box-sizing: border-box;top: 0;bottom: 0;left: 50%;z-index: 0;}#sk-container-id-1 div.sk-serial {display: flex;flex-direction: column;align-items: center;background-color: white;padding-right: 0.2em;padding-left: 0.2em;position: relative;}#sk-container-id-1 div.sk-item {position: relative;z-index: 1;}#sk-container-id-1 div.sk-parallel {display: flex;align-items: stretch;justify-content: center;background-color: white;position: relative;}#sk-container-id-1 div.sk-item::before, #sk-container-id-1 div.sk-parallel-item::before {content: \"\";position: absolute;border-left: 1px solid gray;box-sizing: border-box;top: 0;bottom: 0;left: 50%;z-index: -1;}#sk-container-id-1 div.sk-parallel-item {display: flex;flex-direction: column;z-index: 1;position: relative;background-color: white;}#sk-container-id-1 div.sk-parallel-item:first-child::after {align-self: flex-end;width: 50%;}#sk-container-id-1 div.sk-parallel-item:last-child::after {align-self: flex-start;width: 50%;}#sk-container-id-1 div.sk-parallel-item:only-child::after {width: 0;}#sk-container-id-1 div.sk-dashed-wrapped {border: 1px dashed gray;margin: 0 0.4em 0.5em 0.4em;box-sizing: border-box;padding-bottom: 0.4em;background-color: white;}#sk-container-id-1 div.sk-label label {font-family: monospace;font-weight: bold;display: inline-block;line-height: 1.2em;}#sk-container-id-1 div.sk-label-container {text-align: center;}#sk-container-id-1 div.sk-container {/* jupyter's `normalize.less` sets `[hidden] { display: none; }` but bootstrap.min.css set `[hidden] { display: none !important; }` so we also need the `!important` here to be able to override the default hidden behavior on the sphinx rendered scikit-learn.org. See: https://github.com/scikit-learn/scikit-learn/issues/21755 */display: inline-block !important;position: relative;}#sk-container-id-1 div.sk-text-repr-fallback {display: none;}</style><div id=\"sk-container-id-1\" class=\"sk-top-container\"><div class=\"sk-text-repr-fallback\"><pre>SVR(kernel=&#x27;linear&#x27;)</pre><b>In a Jupyter environment, please rerun this cell to show the HTML representation or trust the notebook. <br />On GitHub, the HTML representation is unable to render, please try loading this page with nbviewer.org.</b></div><div class=\"sk-container\" hidden><div class=\"sk-item\"><div class=\"sk-estimator sk-toggleable\"><input class=\"sk-toggleable__control sk-hidden--visually\" id=\"sk-estimator-id-1\" type=\"checkbox\" checked><label for=\"sk-estimator-id-1\" class=\"sk-toggleable__label sk-toggleable__label-arrow\">SVR</label><div class=\"sk-toggleable__content\"><pre>SVR(kernel=&#x27;linear&#x27;)</pre></div></div></div></div></div>"
      ],
      "text/plain": [
       "SVR(kernel='linear')"
      ]
     },
     "execution_count": 17,
     "metadata": {},
     "output_type": "execute_result"
    }
   ],
   "source": [
    "# baseline model\n",
    "svr = SVR(kernel='linear')\n",
    "svr.fit(X_train_fe, y_train) "
   ]
  },
  {
   "cell_type": "code",
   "execution_count": 18,
   "id": "01bedad4",
   "metadata": {},
   "outputs": [],
   "source": [
    "select_features = SelectFromModel(svr, threshold='mean', prefit=True)\n",
    "select_features.get_support()\n",
    "feature_names = engineering_pipeline.get_feature_names_out()"
   ]
  },
  {
   "cell_type": "code",
   "execution_count": 19,
   "id": "dbda3c8f",
   "metadata": {},
   "outputs": [
    {
     "name": "stdout",
     "output_type": "stream",
     "text": [
      "Best:\n",
      " ['s_4' 's_7' 's_9' 's_11' 's_12' 's_14' 's_20' 's_21' 's_2 s_4' 's_2 s_7'\n",
      " 's_2 s_11' 's_2 s_12' 's_3 s_11' 's_4^2' 's_4 s_7' 's_4 s_8' 's_4 s_11'\n",
      " 's_4 s_12' 's_4 s_13' 's_4 s_15' 's_7 s_8' 's_7 s_9' 's_7 s_11'\n",
      " 's_7 s_13' 's_7 s_14' 's_7 s_15' 's_8^2' 's_8 s_11' 's_8 s_12' 's_8 s_13'\n",
      " 's_9 s_12' 's_9 s_20' 's_9 s_21' 's_11^2' 's_11 s_12' 's_11 s_13'\n",
      " 's_11 s_15' 's_11 s_17' 's_11 s_21' 's_12 s_13' 's_12 s_14' 's_12 s_15'\n",
      " 's_13^2' 's_13 s_15' 's_14 s_20' 's_14 s_21']\n"
     ]
    }
   ],
   "source": [
    "print('Best:\\n', np.array(feature_names)[select_features.get_support()])"
   ]
  },
  {
   "cell_type": "code",
   "execution_count": 20,
   "id": "183d3195",
   "metadata": {},
   "outputs": [],
   "source": [
    "best_features = list(np.array(feature_names)[select_features.get_support()])"
   ]
  },
  {
   "cell_type": "code",
   "execution_count": 21,
   "id": "c4a98ebc",
   "metadata": {},
   "outputs": [
    {
     "data": {
      "text/plain": [
       "46"
      ]
     },
     "execution_count": 21,
     "metadata": {},
     "output_type": "execute_result"
    }
   ],
   "source": [
    "len(best_features)"
   ]
  },
  {
   "cell_type": "code",
   "execution_count": 22,
   "id": "0284d776",
   "metadata": {},
   "outputs": [
    {
     "data": {
      "text/plain": [
       "['s_4',\n",
       " 's_7',\n",
       " 's_9',\n",
       " 's_11',\n",
       " 's_12',\n",
       " 's_14',\n",
       " 's_20',\n",
       " 's_21',\n",
       " 's_2 s_4',\n",
       " 's_2 s_7',\n",
       " 's_2 s_11',\n",
       " 's_2 s_12',\n",
       " 's_3 s_11',\n",
       " 's_4^2',\n",
       " 's_4 s_7',\n",
       " 's_4 s_8',\n",
       " 's_4 s_11',\n",
       " 's_4 s_12',\n",
       " 's_4 s_13',\n",
       " 's_4 s_15',\n",
       " 's_7 s_8',\n",
       " 's_7 s_9',\n",
       " 's_7 s_11',\n",
       " 's_7 s_13',\n",
       " 's_7 s_14',\n",
       " 's_7 s_15',\n",
       " 's_8^2',\n",
       " 's_8 s_11',\n",
       " 's_8 s_12',\n",
       " 's_8 s_13',\n",
       " 's_9 s_12',\n",
       " 's_9 s_20',\n",
       " 's_9 s_21',\n",
       " 's_11^2',\n",
       " 's_11 s_12',\n",
       " 's_11 s_13',\n",
       " 's_11 s_15',\n",
       " 's_11 s_17',\n",
       " 's_11 s_21',\n",
       " 's_12 s_13',\n",
       " 's_12 s_14',\n",
       " 's_12 s_15',\n",
       " 's_13^2',\n",
       " 's_13 s_15',\n",
       " 's_14 s_20',\n",
       " 's_14 s_21']"
      ]
     },
     "execution_count": 22,
     "metadata": {},
     "output_type": "execute_result"
    }
   ],
   "source": [
    "best_features"
   ]
  },
  {
   "cell_type": "code",
   "execution_count": 23,
   "id": "57e7a30b",
   "metadata": {},
   "outputs": [],
   "source": [
    "# final datasets for modelling\n",
    "X_train_final = X_train_fe[best_features]\n",
    "X_test_final = X_test_fe[best_features]"
   ]
  },
  {
   "cell_type": "code",
   "execution_count": 24,
   "id": "836d2c7f",
   "metadata": {},
   "outputs": [
    {
     "data": {
      "text/plain": [
       "46"
      ]
     },
     "execution_count": 24,
     "metadata": {},
     "output_type": "execute_result"
    }
   ],
   "source": [
    "len(X_train_final.columns)"
   ]
  },
  {
   "cell_type": "markdown",
   "id": "569d79ab",
   "metadata": {},
   "source": [
    "### Final Model"
   ]
  },
  {
   "cell_type": "code",
   "execution_count": 25,
   "id": "5bbcfa5a",
   "metadata": {},
   "outputs": [],
   "source": [
    "svr = SVR()"
   ]
  },
  {
   "cell_type": "code",
   "execution_count": 26,
   "id": "37229b8c",
   "metadata": {},
   "outputs": [
    {
     "data": {
      "text/plain": [
       "{'C': 1.0,\n",
       " 'cache_size': 200,\n",
       " 'coef0': 0.0,\n",
       " 'degree': 3,\n",
       " 'epsilon': 0.1,\n",
       " 'gamma': 'scale',\n",
       " 'kernel': 'rbf',\n",
       " 'max_iter': -1,\n",
       " 'shrinking': True,\n",
       " 'tol': 0.001,\n",
       " 'verbose': False}"
      ]
     },
     "execution_count": 26,
     "metadata": {},
     "output_type": "execute_result"
    }
   ],
   "source": [
    "svr.get_params()"
   ]
  },
  {
   "cell_type": "code",
   "execution_count": 27,
   "id": "8bf2411b",
   "metadata": {},
   "outputs": [],
   "source": [
    "params = {'C': [0.1, 0.25, 0.50, 1.0], \n",
    "          'epsilon': [0.4, 0.3, 0.2, 0.1, 0.05],\n",
    "          'kernel': ['rbf', 'linear']         \n",
    "         }"
   ]
  },
  {
   "cell_type": "code",
   "execution_count": 28,
   "id": "6fb44354",
   "metadata": {},
   "outputs": [],
   "source": [
    "grid_search = RandomizedSearchCV(svr, \n",
    "                           param_distributions=params,\n",
    "                           cv=5,\n",
    "                           scoring='neg_root_mean_squared_error')"
   ]
  },
  {
   "cell_type": "code",
   "execution_count": 29,
   "id": "43c31e06",
   "metadata": {},
   "outputs": [
    {
     "data": {
      "text/html": [
       "<style>#sk-container-id-2 {color: black;background-color: white;}#sk-container-id-2 pre{padding: 0;}#sk-container-id-2 div.sk-toggleable {background-color: white;}#sk-container-id-2 label.sk-toggleable__label {cursor: pointer;display: block;width: 100%;margin-bottom: 0;padding: 0.3em;box-sizing: border-box;text-align: center;}#sk-container-id-2 label.sk-toggleable__label-arrow:before {content: \"▸\";float: left;margin-right: 0.25em;color: #696969;}#sk-container-id-2 label.sk-toggleable__label-arrow:hover:before {color: black;}#sk-container-id-2 div.sk-estimator:hover label.sk-toggleable__label-arrow:before {color: black;}#sk-container-id-2 div.sk-toggleable__content {max-height: 0;max-width: 0;overflow: hidden;text-align: left;background-color: #f0f8ff;}#sk-container-id-2 div.sk-toggleable__content pre {margin: 0.2em;color: black;border-radius: 0.25em;background-color: #f0f8ff;}#sk-container-id-2 input.sk-toggleable__control:checked~div.sk-toggleable__content {max-height: 200px;max-width: 100%;overflow: auto;}#sk-container-id-2 input.sk-toggleable__control:checked~label.sk-toggleable__label-arrow:before {content: \"▾\";}#sk-container-id-2 div.sk-estimator input.sk-toggleable__control:checked~label.sk-toggleable__label {background-color: #d4ebff;}#sk-container-id-2 div.sk-label input.sk-toggleable__control:checked~label.sk-toggleable__label {background-color: #d4ebff;}#sk-container-id-2 input.sk-hidden--visually {border: 0;clip: rect(1px 1px 1px 1px);clip: rect(1px, 1px, 1px, 1px);height: 1px;margin: -1px;overflow: hidden;padding: 0;position: absolute;width: 1px;}#sk-container-id-2 div.sk-estimator {font-family: monospace;background-color: #f0f8ff;border: 1px dotted black;border-radius: 0.25em;box-sizing: border-box;margin-bottom: 0.5em;}#sk-container-id-2 div.sk-estimator:hover {background-color: #d4ebff;}#sk-container-id-2 div.sk-parallel-item::after {content: \"\";width: 100%;border-bottom: 1px solid gray;flex-grow: 1;}#sk-container-id-2 div.sk-label:hover label.sk-toggleable__label {background-color: #d4ebff;}#sk-container-id-2 div.sk-serial::before {content: \"\";position: absolute;border-left: 1px solid gray;box-sizing: border-box;top: 0;bottom: 0;left: 50%;z-index: 0;}#sk-container-id-2 div.sk-serial {display: flex;flex-direction: column;align-items: center;background-color: white;padding-right: 0.2em;padding-left: 0.2em;position: relative;}#sk-container-id-2 div.sk-item {position: relative;z-index: 1;}#sk-container-id-2 div.sk-parallel {display: flex;align-items: stretch;justify-content: center;background-color: white;position: relative;}#sk-container-id-2 div.sk-item::before, #sk-container-id-2 div.sk-parallel-item::before {content: \"\";position: absolute;border-left: 1px solid gray;box-sizing: border-box;top: 0;bottom: 0;left: 50%;z-index: -1;}#sk-container-id-2 div.sk-parallel-item {display: flex;flex-direction: column;z-index: 1;position: relative;background-color: white;}#sk-container-id-2 div.sk-parallel-item:first-child::after {align-self: flex-end;width: 50%;}#sk-container-id-2 div.sk-parallel-item:last-child::after {align-self: flex-start;width: 50%;}#sk-container-id-2 div.sk-parallel-item:only-child::after {width: 0;}#sk-container-id-2 div.sk-dashed-wrapped {border: 1px dashed gray;margin: 0 0.4em 0.5em 0.4em;box-sizing: border-box;padding-bottom: 0.4em;background-color: white;}#sk-container-id-2 div.sk-label label {font-family: monospace;font-weight: bold;display: inline-block;line-height: 1.2em;}#sk-container-id-2 div.sk-label-container {text-align: center;}#sk-container-id-2 div.sk-container {/* jupyter's `normalize.less` sets `[hidden] { display: none; }` but bootstrap.min.css set `[hidden] { display: none !important; }` so we also need the `!important` here to be able to override the default hidden behavior on the sphinx rendered scikit-learn.org. See: https://github.com/scikit-learn/scikit-learn/issues/21755 */display: inline-block !important;position: relative;}#sk-container-id-2 div.sk-text-repr-fallback {display: none;}</style><div id=\"sk-container-id-2\" class=\"sk-top-container\"><div class=\"sk-text-repr-fallback\"><pre>RandomizedSearchCV(cv=5, estimator=SVR(),\n",
       "                   param_distributions={&#x27;C&#x27;: [0.1, 0.25, 0.5, 1.0],\n",
       "                                        &#x27;epsilon&#x27;: [0.4, 0.3, 0.2, 0.1, 0.05],\n",
       "                                        &#x27;kernel&#x27;: [&#x27;rbf&#x27;, &#x27;linear&#x27;]},\n",
       "                   scoring=&#x27;neg_root_mean_squared_error&#x27;)</pre><b>In a Jupyter environment, please rerun this cell to show the HTML representation or trust the notebook. <br />On GitHub, the HTML representation is unable to render, please try loading this page with nbviewer.org.</b></div><div class=\"sk-container\" hidden><div class=\"sk-item sk-dashed-wrapped\"><div class=\"sk-label-container\"><div class=\"sk-label sk-toggleable\"><input class=\"sk-toggleable__control sk-hidden--visually\" id=\"sk-estimator-id-2\" type=\"checkbox\" ><label for=\"sk-estimator-id-2\" class=\"sk-toggleable__label sk-toggleable__label-arrow\">RandomizedSearchCV</label><div class=\"sk-toggleable__content\"><pre>RandomizedSearchCV(cv=5, estimator=SVR(),\n",
       "                   param_distributions={&#x27;C&#x27;: [0.1, 0.25, 0.5, 1.0],\n",
       "                                        &#x27;epsilon&#x27;: [0.4, 0.3, 0.2, 0.1, 0.05],\n",
       "                                        &#x27;kernel&#x27;: [&#x27;rbf&#x27;, &#x27;linear&#x27;]},\n",
       "                   scoring=&#x27;neg_root_mean_squared_error&#x27;)</pre></div></div></div><div class=\"sk-parallel\"><div class=\"sk-parallel-item\"><div class=\"sk-item\"><div class=\"sk-label-container\"><div class=\"sk-label sk-toggleable\"><input class=\"sk-toggleable__control sk-hidden--visually\" id=\"sk-estimator-id-3\" type=\"checkbox\" ><label for=\"sk-estimator-id-3\" class=\"sk-toggleable__label sk-toggleable__label-arrow\">estimator: SVR</label><div class=\"sk-toggleable__content\"><pre>SVR()</pre></div></div></div><div class=\"sk-serial\"><div class=\"sk-item\"><div class=\"sk-estimator sk-toggleable\"><input class=\"sk-toggleable__control sk-hidden--visually\" id=\"sk-estimator-id-4\" type=\"checkbox\" ><label for=\"sk-estimator-id-4\" class=\"sk-toggleable__label sk-toggleable__label-arrow\">SVR</label><div class=\"sk-toggleable__content\"><pre>SVR()</pre></div></div></div></div></div></div></div></div></div></div>"
      ],
      "text/plain": [
       "RandomizedSearchCV(cv=5, estimator=SVR(),\n",
       "                   param_distributions={'C': [0.1, 0.25, 0.5, 1.0],\n",
       "                                        'epsilon': [0.4, 0.3, 0.2, 0.1, 0.05],\n",
       "                                        'kernel': ['rbf', 'linear']},\n",
       "                   scoring='neg_root_mean_squared_error')"
      ]
     },
     "execution_count": 29,
     "metadata": {},
     "output_type": "execute_result"
    }
   ],
   "source": [
    "grid_search.fit(X_train_final, y_train)"
   ]
  },
  {
   "cell_type": "code",
   "execution_count": 30,
   "id": "b25a5e36",
   "metadata": {},
   "outputs": [
    {
     "data": {
      "text/html": [
       "<style>#sk-container-id-3 {color: black;background-color: white;}#sk-container-id-3 pre{padding: 0;}#sk-container-id-3 div.sk-toggleable {background-color: white;}#sk-container-id-3 label.sk-toggleable__label {cursor: pointer;display: block;width: 100%;margin-bottom: 0;padding: 0.3em;box-sizing: border-box;text-align: center;}#sk-container-id-3 label.sk-toggleable__label-arrow:before {content: \"▸\";float: left;margin-right: 0.25em;color: #696969;}#sk-container-id-3 label.sk-toggleable__label-arrow:hover:before {color: black;}#sk-container-id-3 div.sk-estimator:hover label.sk-toggleable__label-arrow:before {color: black;}#sk-container-id-3 div.sk-toggleable__content {max-height: 0;max-width: 0;overflow: hidden;text-align: left;background-color: #f0f8ff;}#sk-container-id-3 div.sk-toggleable__content pre {margin: 0.2em;color: black;border-radius: 0.25em;background-color: #f0f8ff;}#sk-container-id-3 input.sk-toggleable__control:checked~div.sk-toggleable__content {max-height: 200px;max-width: 100%;overflow: auto;}#sk-container-id-3 input.sk-toggleable__control:checked~label.sk-toggleable__label-arrow:before {content: \"▾\";}#sk-container-id-3 div.sk-estimator input.sk-toggleable__control:checked~label.sk-toggleable__label {background-color: #d4ebff;}#sk-container-id-3 div.sk-label input.sk-toggleable__control:checked~label.sk-toggleable__label {background-color: #d4ebff;}#sk-container-id-3 input.sk-hidden--visually {border: 0;clip: rect(1px 1px 1px 1px);clip: rect(1px, 1px, 1px, 1px);height: 1px;margin: -1px;overflow: hidden;padding: 0;position: absolute;width: 1px;}#sk-container-id-3 div.sk-estimator {font-family: monospace;background-color: #f0f8ff;border: 1px dotted black;border-radius: 0.25em;box-sizing: border-box;margin-bottom: 0.5em;}#sk-container-id-3 div.sk-estimator:hover {background-color: #d4ebff;}#sk-container-id-3 div.sk-parallel-item::after {content: \"\";width: 100%;border-bottom: 1px solid gray;flex-grow: 1;}#sk-container-id-3 div.sk-label:hover label.sk-toggleable__label {background-color: #d4ebff;}#sk-container-id-3 div.sk-serial::before {content: \"\";position: absolute;border-left: 1px solid gray;box-sizing: border-box;top: 0;bottom: 0;left: 50%;z-index: 0;}#sk-container-id-3 div.sk-serial {display: flex;flex-direction: column;align-items: center;background-color: white;padding-right: 0.2em;padding-left: 0.2em;position: relative;}#sk-container-id-3 div.sk-item {position: relative;z-index: 1;}#sk-container-id-3 div.sk-parallel {display: flex;align-items: stretch;justify-content: center;background-color: white;position: relative;}#sk-container-id-3 div.sk-item::before, #sk-container-id-3 div.sk-parallel-item::before {content: \"\";position: absolute;border-left: 1px solid gray;box-sizing: border-box;top: 0;bottom: 0;left: 50%;z-index: -1;}#sk-container-id-3 div.sk-parallel-item {display: flex;flex-direction: column;z-index: 1;position: relative;background-color: white;}#sk-container-id-3 div.sk-parallel-item:first-child::after {align-self: flex-end;width: 50%;}#sk-container-id-3 div.sk-parallel-item:last-child::after {align-self: flex-start;width: 50%;}#sk-container-id-3 div.sk-parallel-item:only-child::after {width: 0;}#sk-container-id-3 div.sk-dashed-wrapped {border: 1px dashed gray;margin: 0 0.4em 0.5em 0.4em;box-sizing: border-box;padding-bottom: 0.4em;background-color: white;}#sk-container-id-3 div.sk-label label {font-family: monospace;font-weight: bold;display: inline-block;line-height: 1.2em;}#sk-container-id-3 div.sk-label-container {text-align: center;}#sk-container-id-3 div.sk-container {/* jupyter's `normalize.less` sets `[hidden] { display: none; }` but bootstrap.min.css set `[hidden] { display: none !important; }` so we also need the `!important` here to be able to override the default hidden behavior on the sphinx rendered scikit-learn.org. See: https://github.com/scikit-learn/scikit-learn/issues/21755 */display: inline-block !important;position: relative;}#sk-container-id-3 div.sk-text-repr-fallback {display: none;}</style><div id=\"sk-container-id-3\" class=\"sk-top-container\"><div class=\"sk-text-repr-fallback\"><pre>SVR(epsilon=0.3)</pre><b>In a Jupyter environment, please rerun this cell to show the HTML representation or trust the notebook. <br />On GitHub, the HTML representation is unable to render, please try loading this page with nbviewer.org.</b></div><div class=\"sk-container\" hidden><div class=\"sk-item\"><div class=\"sk-estimator sk-toggleable\"><input class=\"sk-toggleable__control sk-hidden--visually\" id=\"sk-estimator-id-5\" type=\"checkbox\" checked><label for=\"sk-estimator-id-5\" class=\"sk-toggleable__label sk-toggleable__label-arrow\">SVR</label><div class=\"sk-toggleable__content\"><pre>SVR(epsilon=0.3)</pre></div></div></div></div></div>"
      ],
      "text/plain": [
       "SVR(epsilon=0.3)"
      ]
     },
     "execution_count": 30,
     "metadata": {},
     "output_type": "execute_result"
    }
   ],
   "source": [
    "grid_search.best_estimator_"
   ]
  },
  {
   "cell_type": "code",
   "execution_count": 31,
   "id": "24d2a0f0",
   "metadata": {},
   "outputs": [],
   "source": [
    "train_predict = grid_search.predict(X_train_final)\n",
    "test_predict = grid_search.predict(X_test_final)"
   ]
  },
  {
   "cell_type": "code",
   "execution_count": 32,
   "id": "b8829e13",
   "metadata": {},
   "outputs": [
    {
     "data": {
      "text/plain": [
       "13.123957507050061"
      ]
     },
     "execution_count": 32,
     "metadata": {},
     "output_type": "execute_result"
    }
   ],
   "source": [
    "mean_squared_error(y_train, train_predict)**0.5"
   ]
  },
  {
   "cell_type": "code",
   "execution_count": 33,
   "id": "09837ea3",
   "metadata": {},
   "outputs": [
    {
     "data": {
      "text/plain": [
       "20.04469330380882"
      ]
     },
     "execution_count": 33,
     "metadata": {},
     "output_type": "execute_result"
    }
   ],
   "source": [
    "mean_squared_error(rul, test_predict)**0.5"
   ]
  },
  {
   "cell_type": "markdown",
   "id": "96faa09d",
   "metadata": {},
   "source": [
    "## Productionizing Code"
   ]
  },
  {
   "cell_type": "markdown",
   "id": "807e22c7",
   "metadata": {},
   "source": [
    "### Test storing and retrieving feature engineering pipeline and model"
   ]
  },
  {
   "cell_type": "markdown",
   "id": "0977058f",
   "metadata": {},
   "source": [
    "#### Example for testing pickle"
   ]
  },
  {
   "cell_type": "code",
   "execution_count": 34,
   "id": "618ab0e6",
   "metadata": {},
   "outputs": [],
   "source": [
    "# dump preprocessing pipeline and model"
   ]
  },
  {
   "cell_type": "code",
   "execution_count": 35,
   "id": "c4749740",
   "metadata": {},
   "outputs": [],
   "source": [
    "model = grid_search.best_estimator_"
   ]
  },
  {
   "cell_type": "code",
   "execution_count": 36,
   "id": "40ca652c",
   "metadata": {},
   "outputs": [],
   "source": [
    "X = X_train.sample(1)"
   ]
  },
  {
   "cell_type": "code",
   "execution_count": 37,
   "id": "a065bc60",
   "metadata": {},
   "outputs": [
    {
     "data": {
      "text/html": [
       "<div>\n",
       "<style scoped>\n",
       "    .dataframe tbody tr th:only-of-type {\n",
       "        vertical-align: middle;\n",
       "    }\n",
       "\n",
       "    .dataframe tbody tr th {\n",
       "        vertical-align: top;\n",
       "    }\n",
       "\n",
       "    .dataframe thead th {\n",
       "        text-align: right;\n",
       "    }\n",
       "</style>\n",
       "<table border=\"1\" class=\"dataframe\">\n",
       "  <thead>\n",
       "    <tr style=\"text-align: right;\">\n",
       "      <th></th>\n",
       "      <th>s_2</th>\n",
       "      <th>s_3</th>\n",
       "      <th>s_4</th>\n",
       "      <th>s_7</th>\n",
       "      <th>s_8</th>\n",
       "      <th>s_9</th>\n",
       "      <th>s_11</th>\n",
       "      <th>s_12</th>\n",
       "      <th>s_13</th>\n",
       "      <th>s_14</th>\n",
       "      <th>s_15</th>\n",
       "      <th>s_17</th>\n",
       "      <th>s_20</th>\n",
       "      <th>s_21</th>\n",
       "    </tr>\n",
       "  </thead>\n",
       "  <tbody>\n",
       "    <tr>\n",
       "      <th>9336</th>\n",
       "      <td>642.08</td>\n",
       "      <td>1589.47</td>\n",
       "      <td>1400.71</td>\n",
       "      <td>554.59</td>\n",
       "      <td>2387.98</td>\n",
       "      <td>9065.25</td>\n",
       "      <td>47.2</td>\n",
       "      <td>521.78</td>\n",
       "      <td>2388.0</td>\n",
       "      <td>8145.02</td>\n",
       "      <td>8.3982</td>\n",
       "      <td>392</td>\n",
       "      <td>39.03</td>\n",
       "      <td>23.3513</td>\n",
       "    </tr>\n",
       "  </tbody>\n",
       "</table>\n",
       "</div>"
      ],
      "text/plain": [
       "         s_2      s_3      s_4     s_7      s_8      s_9  s_11    s_12  \\\n",
       "9336  642.08  1589.47  1400.71  554.59  2387.98  9065.25  47.2  521.78   \n",
       "\n",
       "        s_13     s_14    s_15  s_17   s_20     s_21  \n",
       "9336  2388.0  8145.02  8.3982   392  39.03  23.3513  "
      ]
     },
     "execution_count": 37,
     "metadata": {},
     "output_type": "execute_result"
    }
   ],
   "source": [
    "X"
   ]
  },
  {
   "cell_type": "code",
   "execution_count": 38,
   "id": "8e9f8b92",
   "metadata": {},
   "outputs": [
    {
     "data": {
      "text/html": [
       "<div>\n",
       "<style scoped>\n",
       "    .dataframe tbody tr th:only-of-type {\n",
       "        vertical-align: middle;\n",
       "    }\n",
       "\n",
       "    .dataframe tbody tr th {\n",
       "        vertical-align: top;\n",
       "    }\n",
       "\n",
       "    .dataframe thead th {\n",
       "        text-align: right;\n",
       "    }\n",
       "</style>\n",
       "<table border=\"1\" class=\"dataframe\">\n",
       "  <thead>\n",
       "    <tr style=\"text-align: right;\">\n",
       "      <th></th>\n",
       "      <th>1</th>\n",
       "      <th>s_2</th>\n",
       "      <th>s_3</th>\n",
       "      <th>s_4</th>\n",
       "      <th>s_7</th>\n",
       "      <th>s_8</th>\n",
       "      <th>s_9</th>\n",
       "      <th>s_11</th>\n",
       "      <th>s_12</th>\n",
       "      <th>s_13</th>\n",
       "      <th>...</th>\n",
       "      <th>s_15^2</th>\n",
       "      <th>s_15 s_17</th>\n",
       "      <th>s_15 s_20</th>\n",
       "      <th>s_15 s_21</th>\n",
       "      <th>s_17^2</th>\n",
       "      <th>s_17 s_20</th>\n",
       "      <th>s_17 s_21</th>\n",
       "      <th>s_20^2</th>\n",
       "      <th>s_20 s_21</th>\n",
       "      <th>s_21^2</th>\n",
       "    </tr>\n",
       "  </thead>\n",
       "  <tbody>\n",
       "    <tr>\n",
       "      <th>0</th>\n",
       "      <td>1.0</td>\n",
       "      <td>0.262048</td>\n",
       "      <td>0.401788</td>\n",
       "      <td>0.311614</td>\n",
       "      <td>0.763285</td>\n",
       "      <td>0.121212</td>\n",
       "      <td>0.19528</td>\n",
       "      <td>0.208333</td>\n",
       "      <td>0.658849</td>\n",
       "      <td>0.176471</td>\n",
       "      <td>...</td>\n",
       "      <td>0.079542</td>\n",
       "      <td>0.094011</td>\n",
       "      <td>0.19458</td>\n",
       "      <td>0.178012</td>\n",
       "      <td>0.111111</td>\n",
       "      <td>0.229974</td>\n",
       "      <td>0.210393</td>\n",
       "      <td>0.475993</td>\n",
       "      <td>0.435465</td>\n",
       "      <td>0.398387</td>\n",
       "    </tr>\n",
       "  </tbody>\n",
       "</table>\n",
       "<p>1 rows × 120 columns</p>\n",
       "</div>"
      ],
      "text/plain": [
       "     1       s_2       s_3       s_4       s_7       s_8      s_9      s_11  \\\n",
       "0  1.0  0.262048  0.401788  0.311614  0.763285  0.121212  0.19528  0.208333   \n",
       "\n",
       "       s_12      s_13  ...    s_15^2  s_15 s_17  s_15 s_20  s_15 s_21  \\\n",
       "0  0.658849  0.176471  ...  0.079542   0.094011    0.19458   0.178012   \n",
       "\n",
       "     s_17^2  s_17 s_20  s_17 s_21    s_20^2  s_20 s_21    s_21^2  \n",
       "0  0.111111   0.229974   0.210393  0.475993   0.435465  0.398387  \n",
       "\n",
       "[1 rows x 120 columns]"
      ]
     },
     "execution_count": 38,
     "metadata": {},
     "output_type": "execute_result"
    }
   ],
   "source": [
    "X_fe = pd.DataFrame(engineering_pipeline.transform(X), \n",
    "             columns=engineering_pipeline.get_feature_names_out())\n",
    "\n",
    "X_fe"
   ]
  },
  {
   "cell_type": "code",
   "execution_count": 39,
   "id": "60a13757",
   "metadata": {},
   "outputs": [
    {
     "data": {
      "text/html": [
       "<div>\n",
       "<style scoped>\n",
       "    .dataframe tbody tr th:only-of-type {\n",
       "        vertical-align: middle;\n",
       "    }\n",
       "\n",
       "    .dataframe tbody tr th {\n",
       "        vertical-align: top;\n",
       "    }\n",
       "\n",
       "    .dataframe thead th {\n",
       "        text-align: right;\n",
       "    }\n",
       "</style>\n",
       "<table border=\"1\" class=\"dataframe\">\n",
       "  <thead>\n",
       "    <tr style=\"text-align: right;\">\n",
       "      <th></th>\n",
       "      <th>s_4</th>\n",
       "      <th>s_7</th>\n",
       "      <th>s_9</th>\n",
       "      <th>s_11</th>\n",
       "      <th>s_12</th>\n",
       "      <th>s_14</th>\n",
       "      <th>s_20</th>\n",
       "      <th>s_21</th>\n",
       "      <th>s_2 s_4</th>\n",
       "      <th>s_2 s_7</th>\n",
       "      <th>...</th>\n",
       "      <th>s_11 s_15</th>\n",
       "      <th>s_11 s_17</th>\n",
       "      <th>s_11 s_21</th>\n",
       "      <th>s_12 s_13</th>\n",
       "      <th>s_12 s_14</th>\n",
       "      <th>s_12 s_15</th>\n",
       "      <th>s_13^2</th>\n",
       "      <th>s_13 s_15</th>\n",
       "      <th>s_14 s_20</th>\n",
       "      <th>s_14 s_21</th>\n",
       "    </tr>\n",
       "  </thead>\n",
       "  <tbody>\n",
       "    <tr>\n",
       "      <th>0</th>\n",
       "      <td>0.311614</td>\n",
       "      <td>0.763285</td>\n",
       "      <td>0.19528</td>\n",
       "      <td>0.208333</td>\n",
       "      <td>0.658849</td>\n",
       "      <td>0.232635</td>\n",
       "      <td>0.689922</td>\n",
       "      <td>0.631179</td>\n",
       "      <td>0.081658</td>\n",
       "      <td>0.200017</td>\n",
       "      <td>...</td>\n",
       "      <td>0.058757</td>\n",
       "      <td>0.069444</td>\n",
       "      <td>0.131496</td>\n",
       "      <td>0.116267</td>\n",
       "      <td>0.153271</td>\n",
       "      <td>0.185816</td>\n",
       "      <td>0.031142</td>\n",
       "      <td>0.04977</td>\n",
       "      <td>0.1605</td>\n",
       "      <td>0.146834</td>\n",
       "    </tr>\n",
       "  </tbody>\n",
       "</table>\n",
       "<p>1 rows × 46 columns</p>\n",
       "</div>"
      ],
      "text/plain": [
       "        s_4       s_7      s_9      s_11      s_12      s_14      s_20  \\\n",
       "0  0.311614  0.763285  0.19528  0.208333  0.658849  0.232635  0.689922   \n",
       "\n",
       "       s_21   s_2 s_4   s_2 s_7  ...  s_11 s_15  s_11 s_17  s_11 s_21  \\\n",
       "0  0.631179  0.081658  0.200017  ...   0.058757   0.069444   0.131496   \n",
       "\n",
       "   s_12 s_13  s_12 s_14  s_12 s_15    s_13^2  s_13 s_15  s_14 s_20  s_14 s_21  \n",
       "0   0.116267   0.153271   0.185816  0.031142    0.04977     0.1605   0.146834  \n",
       "\n",
       "[1 rows x 46 columns]"
      ]
     },
     "execution_count": 39,
     "metadata": {},
     "output_type": "execute_result"
    }
   ],
   "source": [
    "X_best = X_fe[best_features]\n",
    "X_best"
   ]
  },
  {
   "cell_type": "code",
   "execution_count": 40,
   "id": "06f0aa86",
   "metadata": {},
   "outputs": [
    {
     "data": {
      "text/plain": [
       "array([100.47965909])"
      ]
     },
     "execution_count": 40,
     "metadata": {},
     "output_type": "execute_result"
    }
   ],
   "source": [
    "model.predict(X_best)"
   ]
  },
  {
   "cell_type": "markdown",
   "id": "6e1c995d",
   "metadata": {},
   "source": [
    "#### Now try with stored pipeline and model"
   ]
  },
  {
   "cell_type": "code",
   "execution_count": 53,
   "id": "6c74a4d5",
   "metadata": {},
   "outputs": [],
   "source": [
    "stored_data = {\"model\": model, \"engineering\": engineering_pipeline, \"features\": best_features}"
   ]
  },
  {
   "cell_type": "code",
   "execution_count": 54,
   "id": "f44630c0",
   "metadata": {},
   "outputs": [],
   "source": [
    "# save\n",
    "with open (\"saved_step.pkl\", 'wb') as file:\n",
    "    pickle.dump(stored_data, file)"
   ]
  },
  {
   "cell_type": "code",
   "execution_count": 46,
   "id": "ff11b014",
   "metadata": {},
   "outputs": [],
   "source": [
    "# reopen\n",
    "with open (\"saved_step.pkl\", 'rb') as file:\n",
    "    data = pickle.load(file)"
   ]
  },
  {
   "cell_type": "code",
   "execution_count": 49,
   "id": "011ba8f1",
   "metadata": {},
   "outputs": [],
   "source": [
    "# load feature engineering pipeline and model\n",
    "stored_engineering = data['engineering']\n",
    "stored_features = data['features']\n",
    "stored_model = data['model']"
   ]
  },
  {
   "cell_type": "code",
   "execution_count": 50,
   "id": "8cd3dadb",
   "metadata": {},
   "outputs": [],
   "source": [
    "X_fe = pd.DataFrame(stored_engineering.transform(X), \n",
    "             columns=stored_engineering.get_feature_names_out())"
   ]
  },
  {
   "cell_type": "code",
   "execution_count": 51,
   "id": "f96a67ef",
   "metadata": {},
   "outputs": [],
   "source": [
    "# select columns from training result\n",
    "X_best = X_fe[stored_features]"
   ]
  },
  {
   "cell_type": "code",
   "execution_count": 52,
   "id": "e5449155",
   "metadata": {},
   "outputs": [
    {
     "data": {
      "text/plain": [
       "array([100.47965909])"
      ]
     },
     "execution_count": 52,
     "metadata": {},
     "output_type": "execute_result"
    }
   ],
   "source": [
    "# make prediction with stored model to see if it matches above\n",
    "stored_model.predict(X_best)"
   ]
  },
  {
   "cell_type": "markdown",
   "id": "ec3a79b6",
   "metadata": {},
   "source": [
    "### Complete datapipeline "
   ]
  },
  {
   "cell_type": "code",
   "execution_count": 35,
   "id": "64936cee",
   "metadata": {},
   "outputs": [],
   "source": [
    "def complete_pipeline(data, model):\n",
    "    # preprocessing pipeline \n",
    "    # model pickle file or input model\n",
    "    pass"
   ]
  },
  {
   "cell_type": "markdown",
   "id": "993524ca",
   "metadata": {},
   "source": [
    "### Functions used only during Airflow DAG run"
   ]
  },
  {
   "cell_type": "code",
   "execution_count": 36,
   "id": "b4ad9d5d",
   "metadata": {},
   "outputs": [],
   "source": [
    "# Airflow\n",
    "# outputs best model\n",
    "def hyperparameter_tuned(data):\n",
    "    pass"
   ]
  },
  {
   "cell_type": "code",
   "execution_count": 37,
   "id": "27075510",
   "metadata": {},
   "outputs": [],
   "source": [
    "# Airflow\n",
    "# calls above functions on new dataset\n",
    "def training(data):\n",
    "    pass"
   ]
  },
  {
   "cell_type": "code",
   "execution_count": 38,
   "id": "c803bf00",
   "metadata": {},
   "outputs": [],
   "source": [
    "# Airflow\n",
    "def save_model():\n",
    "    pass"
   ]
  },
  {
   "cell_type": "code",
   "execution_count": 39,
   "id": "cefe912c",
   "metadata": {},
   "outputs": [],
   "source": [
    "# bulk upload by user\n",
    "def file_upload_check():\n",
    "    pass"
   ]
  },
  {
   "cell_type": "code",
   "execution_count": null,
   "id": "f6de14e1",
   "metadata": {},
   "outputs": [],
   "source": []
  },
  {
   "cell_type": "code",
   "execution_count": null,
   "id": "0e980d93",
   "metadata": {},
   "outputs": [],
   "source": []
  },
  {
   "cell_type": "code",
   "execution_count": null,
   "id": "3a396480",
   "metadata": {},
   "outputs": [],
   "source": []
  },
  {
   "cell_type": "code",
   "execution_count": null,
   "id": "8c67233f",
   "metadata": {},
   "outputs": [],
   "source": []
  },
  {
   "cell_type": "code",
   "execution_count": null,
   "id": "40696dad",
   "metadata": {},
   "outputs": [],
   "source": []
  },
  {
   "cell_type": "code",
   "execution_count": null,
   "id": "e9c06104",
   "metadata": {},
   "outputs": [],
   "source": []
  },
  {
   "cell_type": "code",
   "execution_count": null,
   "id": "c88ee7b7",
   "metadata": {},
   "outputs": [],
   "source": []
  },
  {
   "cell_type": "code",
   "execution_count": null,
   "id": "e1239aec",
   "metadata": {},
   "outputs": [],
   "source": []
  },
  {
   "cell_type": "code",
   "execution_count": null,
   "id": "f79b819a",
   "metadata": {},
   "outputs": [],
   "source": []
  }
 ],
 "metadata": {
  "kernelspec": {
   "display_name": "Python 3 (ipykernel)",
   "language": "python",
   "name": "python3"
  },
  "language_info": {
   "codemirror_mode": {
    "name": "ipython",
    "version": 3
   },
   "file_extension": ".py",
   "mimetype": "text/x-python",
   "name": "python",
   "nbconvert_exporter": "python",
   "pygments_lexer": "ipython3",
   "version": "3.8.13"
  }
 },
 "nbformat": 4,
 "nbformat_minor": 5
}
